{
  "nbformat": 4,
  "nbformat_minor": 0,
  "metadata": {
    "colab": {
      "name": "mod_4ConvertJSONStringsToDicts.ipynb",
      "provenance": [],
      "collapsed_sections": [],
      "authorship_tag": "ABX9TyMVML93SRBNfuwYVLadCSH4",
      "include_colab_link": true
    },
    "kernelspec": {
      "name": "python3",
      "display_name": "Python 3"
    },
    "language_info": {
      "name": "python"
    }
  },
  "cells": [
    {
      "cell_type": "markdown",
      "metadata": {
        "id": "view-in-github",
        "colab_type": "text"
      },
      "source": [
        "<a href=\"https://colab.research.google.com/github/TorahBibleCodes/TorahBibleCodes/blob/master/mod_4ConvertJSONStringsToDicts.ipynb\" target=\"_parent\"><img src=\"https://colab.research.google.com/assets/colab-badge.svg\" alt=\"Open In Colab\"/></a>"
      ]
    },
    {
      "cell_type": "code",
      "metadata": {
        "id": "rvEk4GOJdcIK"
      },
      "source": [
        "## IMPORT MODULES\n",
        "## IMPORT MODULES\n",
        "## IMPORT MODULES\n",
        "\n",
        "import json\n",
        "\n",
        "## FUNCTION () #4 - CONVERT PARSED JSON STRINGS TO DICTIONARIES\n",
        "## FUNCTION () #4 - CONVERT PARSED JSON STRINGS TO DICTIONARIES\n",
        "## FUNCTION () #4 - CONVERT PARSED JSON STRINGS TO DICTIONARIES\n",
        "def fn_ConvertJSONStringsToDicts(ListOfJSONStringsParsed, ListOfJSONStringsParsedWithSpaces):\n",
        "    \n",
        "    ## TEST PRINT OUTPUT\n",
        "    print(\"\\n\")  ## PRINT SPACE\n",
        "    print(\"WITHIN FUNCTION:  BEGIN FUNCTION #4 CONVERT PARSED JSON STRINGS TO DICTIONARIES\")\n",
        "    \n",
        "    ## DECLARE VARIABLES      \n",
        "    ListOfDictsOfJSONStringsParsed = []\n",
        "    ListOfDictsOfJSONStringsParsedWithSpaces = []\n",
        "       \n",
        "    ## FOR NO SPACES\n",
        "    ## FOR EACH PARSED JSON STRING, CONVERT JSON STRING TO DICTIONARY\n",
        "    for each in ListOfJSONStringsParsed:\n",
        "        \n",
        "        ## CONVERT JSON TO PYTHON DICTIONARY\n",
        "        DictOfConvertedJSON = json.loads(each)\n",
        "        \n",
        "        ## APPEND EACH DICTIONARY TO LIST\n",
        "        ListOfDictsOfJSONStringsParsed.append(DictOfConvertedJSON)\n",
        "\n",
        "\n",
        "    ## FOR WITH SPACES\n",
        "    ## FOR EACH PARSED JSON STRING, CONVERT JSON STRING TO DICTIONARY\n",
        "    for each in ListOfJSONStringsParsedWithSpaces:\n",
        "        \n",
        "        ## CONVERT JSON TO PYTHON DICTIONARY\n",
        "        DictOfConvertedJSON = json.loads(each)\n",
        "        \n",
        "        ## APPEND EACH DICTIONARY TO LIST\n",
        "        ListOfDictsOfJSONStringsParsedWithSpaces.append(DictOfConvertedJSON)\n",
        "        \n",
        "    ## TEST PRINT OUTPUT\n",
        "    print(\"\\n\")  ## PRINT SPACE\n",
        "    print(\"WITHIN FUNCTION:  END FUNCTION #4 - CONVERT PARSED JSON STRINGS TO DICTIONARIES\")    \n",
        "    \n",
        "    ## RETURN VARIABLES TO PROGRAM\n",
        "    return(ListOfDictsOfJSONStringsParsed, ListOfDictsOfJSONStringsParsedWithSpaces)\n",
        "    \n",
        "## END FUNCTION () #4 - END CONVERT PARSED JSON STRINGS TO DICTIONARIES\n",
        "## END FUNCTION () #4 - END CONVERT PARSED JSON STRINGS TO DICTIONARIES\n",
        "## END FUNCTION () #4 - END CONVERT PARSED JSON STRINGS TO DICTIONARIES\n"
      ],
      "execution_count": null,
      "outputs": []
    }
  ]
}