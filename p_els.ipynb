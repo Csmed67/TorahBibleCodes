{
  "nbformat": 4,
  "nbformat_minor": 0,
  "metadata": {
    "colab": {
      "name": "p_els.ipynb",
      "provenance": [],
      "collapsed_sections": [],
      "authorship_tag": "ABX9TyOvO3DQWyuOcazzPeV8NTNQ",
      "include_colab_link": true
    },
    "kernelspec": {
      "name": "python3",
      "display_name": "Python 3"
    },
    "language_info": {
      "name": "python"
    }
  },
  "cells": [
    {
      "cell_type": "markdown",
      "metadata": {
        "id": "view-in-github",
        "colab_type": "text"
      },
      "source": [
        "<a href=\"https://colab.research.google.com/github/TorahBibleCodes/TorahBibleCodes/blob/master/p_els.ipynb\" target=\"_parent\"><img src=\"https://colab.research.google.com/assets/colab-badge.svg\" alt=\"Open In Colab\"/></a>"
      ]
    },
    {
      "cell_type": "code",
      "metadata": {
        "id": "7IktVk5QYFdr",
        "colab": {
          "base_uri": "https://localhost:8080/"
        },
        "outputId": "ddd48c12-cc80-490d-81ef-1f929b4f71fd"
      },
      "source": [
        "## IMPORT SPECIAL MODULES TO MAKE POSSIBLE IMPORT OF CUSTOM-MADE MODULES (BELOW)\n",
        "\n",
        "!pip install import_ipynb\n",
        "import import_ipynb\n",
        "\n",
        "from google.colab import drive\n",
        "drive.mount('/content/gdrive')\n",
        "#%cd /content/drive/My Drive/Colab Notebooks\n",
        "\n",
        "#import sys\n",
        "#sys.path.append('/content/gdrive/My Drive/Colab Notebooks')\n",
        "\n",
        "import sys\n",
        "sys.path.insert(0,\"/content/drive/My Drive/Colab Notebooks\")\n",
        "\n",
        "\n",
        "\n",
        "## IMPORT MODULES\n",
        "## IMPORT MODULES\n",
        "## IMPORT MODULES\n",
        "\n",
        "import numpy as np\n",
        "import pandas as pd\n",
        "\n",
        "## import matplotlab.pyplot as plt\n",
        "\n",
        "import mod_1GetUserInput1 ## MODULE.FUNCTION() #1 - GET USER INPUT; CHOOSE TEXT TO SEARCH\n",
        "import mod_2TextFileOpen ## MODULE.FUNCTION() #2 - TEXT FILE OPEN\n",
        "import mod_3ATextFilePreprocess ## MODULE.FUNCTION() #3A - TEXT FILE PREPROCESS; CALLS MODULE.FUNCTION() #3B - TEXT FILE PARSE\n",
        "import mod_4ConvertJSONStringsToDicts ## MODULE.FUNCTION() #4 - CONVERT PARSED JSON STRINGS TO LIST OF DICTS\n",
        "import mod_5GetNumberOfTextChosen ## MODULE.FUNCTION() #5 - GET NUMBER OF TEXT CHOSEN\n",
        "import mod_6ZippedTupleCreate ## MODULE.FUNCTION() #6 - CREATE ZIPPED TUPLE OF (BOOK NUMBER, BOOK NAME)\n",
        "import mod_7DictionaryOfVersesCreate ## MODULE.FUNCTION #7 - CREATE DICTIONARY OF VERSES OF TEXTS CHOSEN TO BE SEARCHED\n",
        "import mod_8DataObjectsCreate ## MODULE.FUNCTION #8 - DATA OBJECTS CREATE; RETURNS 1.) STRING OF LETTERS, 2.) LIST OF LETTERS, 3.) DICT OF LETTERS, 4.) DICT OF LETTERS, 5.) LIST OF WORDS\n",
        "import mod_9GetNumberValues ## MODULE.FUNCTION #9 - GET NUMBER VALUE OF EACH LETTER IN STRING\n",
        "import mod_10ListOfIndexesCustomCreate ## MODULE.FUNCTION() #10 - CREATE LIST OF CUSTOM INDEXES NON-0-INDEXED / 1-INDEXED RETURNS LIST OF CUSTOM INDEXES\n",
        "import mod_11TupleOfWordsAndGematriaValuesCreate ## MODULE.FUNCTION() #11 - DATA OBJECT CREATE - RETURNS TUPLE OF WORDS WITH EACH WORD'S GEMATRIA NUMBER VALUE\n",
        "\n",
        "import mod_99WriteOutputToCSVFile_WordsAndGematriaValues ## MODULE.FUNCTION() #99 - \n",
        "\n",
        "#import mod_GetUserInput2 ## MODULE.FUNCTION() # - GET USER INPUT; INPUT ELS SEARCH TERM\n",
        "\n",
        "## DECLARE VARIABLES\n",
        "## DECLARE VARIABLES\n",
        "## DECLARE VARIABLES\n",
        "\n",
        "## n = START POSITION OF ELS IN STRING/LIST/DICTIONARY\n",
        "\n",
        "## d = LENGTH OF SKIP BETWEEN LETTERS IN ELS\n",
        "\n",
        "## k = LENGTH OF ELS: i.e. SEARCH TERM // USER INPUT 2\n",
        "\n",
        "## BEGIN MAIN PROGRAM\n",
        "## BEGIN MAIN PROGRAM\n",
        "## BEGIN MAIN PROGRAM\n",
        "\n",
        "## CALL MODULES.FUNCTIONS\n",
        "## CALL MODULES.FUNCTIONS\n",
        "## CALL MODULES.FUNCTIONS\n",
        "\n",
        "## CALL MODULE.FUNCTION() #1 - GET USER INPUT 1 - CHOOSE TEXT TO SEARCH\n",
        "TextChosen = mod_1GetUserInput1.fn_GetUserInput1()\n",
        "\n",
        "## CALL MODULE.FUNCTION() #2 - TEXT FILE OPEN\n",
        "JSON = mod_2TextFileOpen.fn_TextFileOpen(TextChosen)\n",
        "\n",
        "## CALL MODULE.FUNCTION() #3A - TEXT FILE PREPROCESS; CALLS MODULE.FUNCTION() #3B - TEXT FILE PARSE\n",
        "ListOfJSONStringsParsed, ListOfJSONStringsParsedWithSpaces = mod_3ATextFilePreprocess.fn_TextFilePreprocess(JSON)\n",
        "\n",
        "## CALL MODULE.FUNCTION() #4 - CONVERT PARSED JSON STRINGS TO DICTIONARIES; RETURN LIST OF DICTIONARIES\n",
        "ListOfDictsOfJSONStringsParsed, ListOfDictsOfJSONStringsParsedWithSpaces = mod_4ConvertJSONStringsToDicts.fn_ConvertJSONStringsToDicts(ListOfJSONStringsParsed, ListOfJSONStringsParsedWithSpaces)\n",
        "\n",
        "## CALL MODULE.FUNCTION() #5 - GET NUMBER OF TEXT CHOSEN\n",
        "SearchTextChosen = mod_5GetNumberOfTextChosen.fn_GetNumberOfTextChosen(ListOfDictsOfJSONStringsParsed)\n",
        "\n",
        "## CALL MODULE.FUNCTION() #6 - ZIPPED TUPLE(S) CREATE\n",
        "ZippedTupleNoSpaces, ZippedTupleWithSpaces = mod_6ZippedTupleCreate.fn_ZippedTupleCreate(ListOfDictsOfJSONStringsParsed, ListOfDictsOfJSONStringsParsedWithSpaces, SearchTextChosen)\n",
        "\n",
        "## CALL MODULE.FUNCTION() #7 - DICTIONARY OF VERSES CREATE\n",
        "D, DS = mod_7DictionaryOfVersesCreate.fn_DictionaryOfVersesCreate(ZippedTupleNoSpaces, ZippedTupleWithSpaces)\n",
        "\n",
        "## CALL MODULE.FUNCTION() #8 - DATA OBJECTS CREATE - RETURNS 1.) STRING OF LETTERS, 2.) LIST OF LETTERS, 3.) DICT OF LETTERS, 4.) DICT OF LETTERS\n",
        "S, L, DL, D5, ListOfWords = mod_8DataObjectsCreate.fn_DataObjectsCreate(D, DS)\n",
        "\n",
        "## CALL MODULE.FUNCTION() #9 - GET NUMBER VALUE - RETURNS LIST OF NUMBER VALUES FOR EACH LETTER OF STRING\n",
        "N, NW = mod_9GetNumberValues.fn_GetNumberValues(S, ListOfWords) ## TEST FOR OA - LIST OF WORDS\n",
        "\n",
        "## CALL MODULE.FUNCTION() #10 - CREATE LIST OF CUSTOM INDEXES NON-0-INDEXED / 1-INDEXED RETURNS LIST OF CUSTOM INDEXES\n",
        "ListOfIndexesCustom = mod_10ListOfIndexesCustomCreate.fn_ListOfIndexesCustomCreate(D5)\n",
        "\n",
        "## CALL MODULE.FUNCTION() #11 - DATA OBJECT CREATE - RETURNS TUPLE OF WORDS WITH EACH WORD'S GEMATRIA NUMBER VALUE\n",
        "W = mod_11TupleOfWordsAndGematriaValuesCreate.fn_TupleOfWordsAndGematriaValuesCreate(ListOfWords, NW)\n",
        "\n",
        "## CALL MODULE.FUNCTION() # - GET USER INPUT 2 - INPUT TEXT EQUIDISTANT LETTER SEQUENCES (ELS = K) TO SEARCH\n",
        "# UserInput2 = mod_GetUserInput2.fn_GetUserInput2()\n",
        "\n",
        "## CALL MODULE.FUNCTION() #99 = OUTPUT/WRITE TO CSV FILE ALL WORDS OF SELECTED TEXT(S) WITH EACH WORD'S GEMATRIA VALUE\n",
        "OP = mod_99WriteOutputToCSVFile_WordsAndGematriaValues.fn_WriteOutputToCSVFile_WordsAndGematriaValues(W)\n",
        "\n",
        "\n",
        "\n",
        "\n",
        "## END MAIN PROGRAM\n",
        "## END MAIN PROGRAM\n",
        "## END MAIN PROGRAM\n",
        "\n",
        "## GAME OVER\n",
        "## GAME OVER\n",
        "## GAME OVER\n"
      ],
      "execution_count": null,
      "outputs": [
        {
          "output_type": "stream",
          "name": "stdout",
          "text": [
            "Collecting import_ipynb\n",
            "  Downloading import-ipynb-0.1.3.tar.gz (4.0 kB)\n",
            "Building wheels for collected packages: import-ipynb\n",
            "  Building wheel for import-ipynb (setup.py) ... \u001b[?25l\u001b[?25hdone\n",
            "  Created wheel for import-ipynb: filename=import_ipynb-0.1.3-py3-none-any.whl size=2975 sha256=37894c50e872ee5aa8e127a41727916f57c6b37ebaac720812b4929509eef2a8\n",
            "  Stored in directory: /root/.cache/pip/wheels/b1/5e/dc/79780689896a056199b0b9f24471e3ee184fbd816df355d5f0\n",
            "Successfully built import-ipynb\n",
            "Installing collected packages: import-ipynb\n",
            "Successfully installed import-ipynb-0.1.3\n",
            "\u001b[31mERROR: Could not find a version that satisfies the requirement mod_1GetUserInput1 (from versions: none)\u001b[0m\n",
            "\u001b[31mERROR: No matching distribution found for mod_1GetUserInput1\u001b[0m\n"
          ]
        }
      ]
    },
    {
      "cell_type": "code",
      "metadata": {
        "id": "3o39T0gqiA28"
      },
      "source": [
        ""
      ],
      "execution_count": null,
      "outputs": []
    }
  ]
}