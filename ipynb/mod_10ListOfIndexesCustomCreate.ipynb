{
  "nbformat": 4,
  "nbformat_minor": 0,
  "metadata": {
    "colab": {
      "name": "mod_10ListOfIndexesCustomCreate.ipynb",
      "provenance": [],
      "collapsed_sections": [],
      "authorship_tag": "ABX9TyNNEe3XEhLaDPaXMXVnyAkd",
      "include_colab_link": true
    },
    "kernelspec": {
      "name": "python3",
      "display_name": "Python 3"
    },
    "language_info": {
      "name": "python"
    }
  },
  "cells": [
    {
      "cell_type": "markdown",
      "metadata": {
        "id": "view-in-github",
        "colab_type": "text"
      },
      "source": [
        "<a href=\"https://colab.research.google.com/github/TorahBibleCodes/TorahBibleCodes/blob/master/mod_10ListOfIndexesCustomCreate.ipynb\" target=\"_parent\"><img src=\"https://colab.research.google.com/assets/colab-badge.svg\" alt=\"Open In Colab\"/></a>"
      ]
    },
    {
      "cell_type": "code",
      "metadata": {
        "id": "lO7lFtc-fvuk"
      },
      "source": [
        "## IMPORT MODULES\n",
        "## IMPORT MODULES\n",
        "## IMPORT MODULES\n",
        "\n",
        "## BEGIN FUNCTION () #10 - LIST OF INDEXES (CUSTOM) CREATE\n",
        "## BEGIN FUNCTION () #10 - LIST OF INDEXES (CUSTOM) CREATE\n",
        "## BEGIN FUNCTION () #10 - LIST OF INDEXES (CUSTOM) CREATE\n",
        "\n",
        "def fn_ListOfIndexesCustomCreate(D5):\n",
        "    \n",
        "    ## TEST PRINT OUTPUT\n",
        "    print(\"\\n\")  ## PRINT SPACE\n",
        "    print(\"WITHIN FUNCTION:  BEGIN FUNCTION #10 - LIST OF INDEXES (CUSTOM) CREATE\")\n",
        "          \n",
        "    ## DECLARE VARIABLES\n",
        "    \n",
        "    ## EMPTY LIST TO HOLD CUSTOM INDEX NUMBERS TO BE NON-0-INDEXED / 1-INDEXED\n",
        "    ListOfIndexesCustom = [] \n",
        "    \n",
        "    ## FOR EACH 5-DIGIT TUPLE KEY IN D5...\n",
        "    for each in D5: ## EACH == KEY OF D5\n",
        "        \n",
        "        ## TEST PRINT OUTPUT\n",
        "        ## print(\"index = \", each[-1])\n",
        "        ## print(\"each D5 key =\", each)\n",
        "        \n",
        "        ## DECLARE INDEX VALUE\n",
        "        IndexCustom = each[-1]\n",
        "        \n",
        "        ## ADD CUSTOM INDEX TO LIST OF CUSTOM INDEXES\n",
        "        ListOfIndexesCustom.append(IndexCustom)\n",
        "    \n",
        "    ## TEST PRINT OUTPUT        \n",
        "    ## print(ListOfIndexesCustom)\n",
        "    \n",
        "    ## TEST PRINT OUTPUT\n",
        "    print(\"\\n\")  ## PRINT SPACE\n",
        "    print(\"WITHIN FUNCTION:  END FUNCTION #10 - LIST OF INDEXES (CUSTOM) CREATE\")\n",
        "    \n",
        "    ## RETURN VARIABLES\n",
        "    return(ListOfIndexesCustom)\n",
        "    \n",
        "## END FUNCTION () #10 - LIST OF INDEXES (CUSTOM) CREATE\n",
        "## END FUNCTION () #10 - LIST OF INDEXES (CUSTOM) CREATE\n",
        "## END FUNCTION () #10 - LIST OF INDEXES (CUSTOM) CREATE\n",
        "\n",
        "\n"
      ],
      "execution_count": null,
      "outputs": []
    }
  ]
}