{
  "nbformat": 4,
  "nbformat_minor": 0,
  "metadata": {
    "colab": {
      "name": "p_els.ipynb",
      "provenance": [],
      "collapsed_sections": [],
      "authorship_tag": "ABX9TyMBdaIDdEUIh91N40mueYRW",
      "include_colab_link": true
    },
    "kernelspec": {
      "name": "python3",
      "display_name": "Python 3"
    },
    "language_info": {
      "name": "python"
    }
  },
  "cells": [
    {
      "cell_type": "markdown",
      "metadata": {
        "id": "view-in-github",
        "colab_type": "text"
      },
      "source": [
        "<a href=\"https://colab.research.google.com/github/TorahBibleCodes/TorahBibleCodes/blob/master/ipynb/p_els.ipynb\" target=\"_parent\"><img src=\"https://colab.research.google.com/assets/colab-badge.svg\" alt=\"Open In Colab\"/></a>"
      ]
    },
    {
      "cell_type": "code",
      "metadata": {
        "id": "7IktVk5QYFdr",
        "colab": {
          "base_uri": "https://localhost:8080/",
          "height": 408
        },
        "outputId": "fa8de26b-f72c-4c70-8e7d-a1a65271a50b"
      },
      "source": [
        "## PIP INSTALL FOR COLAB SUPPORT\n",
        "!pip install import_ipynb\n",
        "\n",
        "## MOUNT GOOGLE DRIVE FOR COLAB TO ACCESS MODULES IN THE GDRIVE\n",
        "from google.colab import drive\n",
        "drive.mount('/content/gdrive')\n",
        "#%cd /content/drive/My Drive/Colab Notebooks\n",
        "\n",
        "#import sys\n",
        "#sys.path.insert(0,\"/content/gdrive/My Drive/Colab Notebooks\")\n",
        "\n",
        "import sys\n",
        "sys.path.append(\"/content/gdrive/My Drive/Colab Notebooks\")\n",
        "\n",
        "## IMPORT MODULES PREVIOUSLY INSTALLED ABOVE\n",
        "import import_ipynb\n",
        "\n",
        "## IMPORT MODULES\n",
        "## IMPORT MODULES\n",
        "## IMPORT MODULES\n",
        "\n",
        "import numpy as np\n",
        "import pandas as pd\n",
        "\n",
        "## import matplotlab.pyplot as plt\n",
        "\n",
        "import mod_1GetUserInput1 ## MODULE.FUNCTION() #1 - GET USER INPUT; CHOOSE TEXT TO SEARCH\n",
        "import mod_2TextFileOpen ## MODULE.FUNCTION() #2 - TEXT FILE OPEN\n",
        "import mod_3ATextFilePreprocess ## MODULE.FUNCTION() #3A - TEXT FILE PREPROCESS; CALLS MODULE.FUNCTION() #3B - TEXT FILE PARSE\n",
        "import mod_4ConvertJSONStringsToDicts ## MODULE.FUNCTION() #4 - CONVERT PARSED JSON STRINGS TO LIST OF DICTS\n",
        "import mod_5GetNumberOfTextChosen ## MODULE.FUNCTION() #5 - GET NUMBER OF TEXT CHOSEN\n",
        "import mod_6ZippedTupleCreate ## MODULE.FUNCTION() #6 - CREATE ZIPPED TUPLE OF (BOOK NUMBER, BOOK NAME)\n",
        "import mod_7DictionaryOfVersesCreate ## MODULE.FUNCTION #7 - CREATE DICTIONARY OF VERSES OF TEXTS CHOSEN TO BE SEARCHED\n",
        "import mod_8DataObjectsCreate ## MODULE.FUNCTION #8 - DATA OBJECTS CREATE; RETURNS 1.) STRING OF LETTERS, 2.) LIST OF LETTERS, 3.) DICT OF LETTERS, 4.) DICT OF LETTERS, 5.) LIST OF WORDS\n",
        "import mod_9GetNumberValues ## MODULE.FUNCTION #9 - GET NUMBER VALUE OF EACH LETTER IN STRING\n",
        "import mod_10ListOfIndexesCustomCreate ## MODULE.FUNCTION() #10 - CREATE LIST OF CUSTOM INDEXES NON-0-INDEXED / 1-INDEXED RETURNS LIST OF CUSTOM INDEXES\n",
        "import mod_11TupleOfWordsAndGematriaValuesCreate ## MODULE.FUNCTION() #11 - DATA OBJECT CREATE - RETURNS TUPLE OF WORDS WITH EACH WORD'S GEMATRIA NUMBER VALUE\n",
        "\n",
        "import mod_99WriteOutputToCSVFile_WordsAndGematriaValues ## MODULE.FUNCTION() #99 - \n",
        "\n",
        "#import mod_GetUserInput2 ## MODULE.FUNCTION() # - GET USER INPUT; INPUT ELS SEARCH TERM\n",
        "\n",
        "## DECLARE VARIABLES\n",
        "## DECLARE VARIABLES\n",
        "## DECLARE VARIABLES\n",
        "\n",
        "## n = START POSITION OF ELS IN STRING/LIST/DICTIONARY\n",
        "\n",
        "## d = LENGTH OF SKIP BETWEEN LETTERS IN ELS\n",
        "\n",
        "## k = LENGTH OF ELS: i.e. SEARCH TERM // USER INPUT 2\n",
        "\n",
        "## BEGIN MAIN PROGRAM\n",
        "## BEGIN MAIN PROGRAM\n",
        "## BEGIN MAIN PROGRAM\n",
        "\n",
        "## CALL MODULES.FUNCTIONS\n",
        "## CALL MODULES.FUNCTIONS\n",
        "## CALL MODULES.FUNCTIONS\n",
        "\n",
        "## CALL MODULE.FUNCTION() #1 - GET USER INPUT 1 - CHOOSE TEXT TO SEARCH\n",
        "TextChosen = mod_1GetUserInput1.fn_GetUserInput1()\n",
        "\n",
        "## CALL MODULE.FUNCTION() #2 - TEXT FILE OPEN\n",
        "JSON = mod_2TextFileOpen.fn_TextFileOpen(TextChosen)\n",
        "\n",
        "## CALL MODULE.FUNCTION() #3A - TEXT FILE PREPROCESS; CALLS MODULE.FUNCTION() #3B - TEXT FILE PARSE\n",
        "ListOfJSONStringsParsed, ListOfJSONStringsParsedWithSpaces = mod_3ATextFilePreprocess.fn_TextFilePreprocess(JSON)\n",
        "\n",
        "## CALL MODULE.FUNCTION() #4 - CONVERT PARSED JSON STRINGS TO DICTIONARIES; RETURN LIST OF DICTIONARIES\n",
        "ListOfDictsOfJSONStringsParsed, ListOfDictsOfJSONStringsParsedWithSpaces = mod_4ConvertJSONStringsToDicts.fn_ConvertJSONStringsToDicts(ListOfJSONStringsParsed, ListOfJSONStringsParsedWithSpaces)\n",
        "\n",
        "## CALL MODULE.FUNCTION() #5 - GET NUMBER OF TEXT CHOSEN\n",
        "SearchTextChosen = mod_5GetNumberOfTextChosen.fn_GetNumberOfTextChosen(ListOfDictsOfJSONStringsParsed)\n",
        "\n",
        "## CALL MODULE.FUNCTION() #6 - ZIPPED TUPLE(S) CREATE\n",
        "ZippedTupleNoSpaces, ZippedTupleWithSpaces = mod_6ZippedTupleCreate.fn_ZippedTupleCreate(ListOfDictsOfJSONStringsParsed, ListOfDictsOfJSONStringsParsedWithSpaces, SearchTextChosen)\n",
        "\n",
        "## CALL MODULE.FUNCTION() #7 - DICTIONARY OF VERSES CREATE\n",
        "D, DS = mod_7DictionaryOfVersesCreate.fn_DictionaryOfVersesCreate(ZippedTupleNoSpaces, ZippedTupleWithSpaces)\n",
        "\n",
        "## CALL MODULE.FUNCTION() #8 - DATA OBJECTS CREATE - RETURNS 1.) STRING OF LETTERS, 2.) LIST OF LETTERS, 3.) DICT OF LETTERS, 4.) DICT OF LETTERS\n",
        "S, L, DL, D5, ListOfWords = mod_8DataObjectsCreate.fn_DataObjectsCreate(D, DS)\n",
        "\n",
        "## CALL MODULE.FUNCTION() #9 - GET NUMBER VALUE - RETURNS LIST OF NUMBER VALUES FOR EACH LETTER OF STRING\n",
        "N, NW = mod_9GetNumberValues.fn_GetNumberValues(S, ListOfWords) ## TEST FOR OA - LIST OF WORDS\n",
        "\n",
        "## CALL MODULE.FUNCTION() #10 - CREATE LIST OF CUSTOM INDEXES NON-0-INDEXED / 1-INDEXED RETURNS LIST OF CUSTOM INDEXES\n",
        "ListOfIndexesCustom = mod_10ListOfIndexesCustomCreate.fn_ListOfIndexesCustomCreate(D5)\n",
        "\n",
        "## CALL MODULE.FUNCTION() #11 - DATA OBJECT CREATE - RETURNS TUPLE OF WORDS WITH EACH WORD'S GEMATRIA NUMBER VALUE\n",
        "W = mod_11TupleOfWordsAndGematriaValuesCreate.fn_TupleOfWordsAndGematriaValuesCreate(ListOfWords, NW)\n",
        "\n",
        "## CALL MODULE.FUNCTION() # - GET USER INPUT 2 - INPUT TEXT EQUIDISTANT LETTER SEQUENCES (ELS = K) TO SEARCH\n",
        "# UserInput2 = mod_GetUserInput2.fn_GetUserInput2()\n",
        "\n",
        "## CALL MODULE.FUNCTION() #99 = OUTPUT/WRITE TO CSV FILE ALL WORDS OF SELECTED TEXT(S) WITH EACH WORD'S GEMATRIA VALUE\n",
        "OP = mod_99WriteOutputToCSVFile_WordsAndGematriaValues.fn_WriteOutputToCSVFile_WordsAndGematriaValues(W)\n",
        "\n",
        "\n",
        "\n",
        "\n",
        "## END MAIN PROGRAM\n",
        "## END MAIN PROGRAM\n",
        "## END MAIN PROGRAM\n",
        "\n",
        "## GAME OVER\n",
        "## GAME OVER\n",
        "## GAME OVER\n"
      ],
      "execution_count": 6,
      "outputs": [
        {
          "output_type": "stream",
          "name": "stdout",
          "text": [
            "Requirement already satisfied: import_ipynb in /usr/local/lib/python3.7/dist-packages (0.1.3)\n",
            "Drive already mounted at /content/gdrive; to attempt to forcibly remount, call drive.mount(\"/content/gdrive\", force_remount=True).\n"
          ]
        },
        {
          "output_type": "error",
          "ename": "ModuleNotFoundError",
          "evalue": "ignored",
          "traceback": [
            "\u001b[0;31m---------------------------------------------------------------------------\u001b[0m",
            "\u001b[0;31mModuleNotFoundError\u001b[0m                       Traceback (most recent call last)",
            "\u001b[0;32m<ipython-input-6-04288041dec1>\u001b[0m in \u001b[0;36m<module>\u001b[0;34m()\u001b[0m\n\u001b[1;32m     22\u001b[0m \u001b[0;31m## import matplotlab.pyplot as plt\u001b[0m\u001b[0;34m\u001b[0m\u001b[0;34m\u001b[0m\u001b[0;34m\u001b[0m\u001b[0m\n\u001b[1;32m     23\u001b[0m \u001b[0;34m\u001b[0m\u001b[0m\n\u001b[0;32m---> 24\u001b[0;31m \u001b[0;32mimport\u001b[0m \u001b[0mmod_1GetUserInput1\u001b[0m \u001b[0;31m## MODULE.FUNCTION() #1 - GET USER INPUT; CHOOSE TEXT TO SEARCH\u001b[0m\u001b[0;34m\u001b[0m\u001b[0;34m\u001b[0m\u001b[0m\n\u001b[0m\u001b[1;32m     25\u001b[0m \u001b[0;32mimport\u001b[0m \u001b[0mmod_2TextFileOpen\u001b[0m \u001b[0;31m## MODULE.FUNCTION() #2 - TEXT FILE OPEN\u001b[0m\u001b[0;34m\u001b[0m\u001b[0;34m\u001b[0m\u001b[0m\n\u001b[1;32m     26\u001b[0m \u001b[0;32mimport\u001b[0m \u001b[0mmod_3ATextFilePreprocess\u001b[0m \u001b[0;31m## MODULE.FUNCTION() #3A - TEXT FILE PREPROCESS; CALLS MODULE.FUNCTION() #3B - TEXT FILE PARSE\u001b[0m\u001b[0;34m\u001b[0m\u001b[0;34m\u001b[0m\u001b[0m\n",
            "\u001b[0;31mModuleNotFoundError\u001b[0m: No module named 'mod_1GetUserInput1'",
            "",
            "\u001b[0;31m---------------------------------------------------------------------------\u001b[0;32m\nNOTE: If your import is failing due to a missing package, you can\nmanually install dependencies using either !pip or !apt.\n\nTo view examples of installing some common dependencies, click the\n\"Open Examples\" button below.\n\u001b[0;31m---------------------------------------------------------------------------\u001b[0m\n"
          ],
          "errorDetails": {
            "actions": [
              {
                "action": "open_url",
                "actionText": "Open Examples",
                "url": "/notebooks/snippets/importing_libraries.ipynb"
              }
            ]
          }
        }
      ]
    },
    {
      "cell_type": "code",
      "metadata": {
        "id": "3o39T0gqiA28"
      },
      "source": [
        ""
      ],
      "execution_count": null,
      "outputs": []
    }
  ]
}