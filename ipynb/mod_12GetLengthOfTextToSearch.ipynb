{
  "nbformat": 4,
  "nbformat_minor": 0,
  "metadata": {
    "colab": {
      "name": "mod_12GetLengthOfTextToSearch.ipynb",
      "provenance": [],
      "collapsed_sections": [],
      "authorship_tag": "ABX9TyNyiU+xyBb63QsDRZ6C4rUY",
      "include_colab_link": true
    },
    "kernelspec": {
      "name": "python3",
      "display_name": "Python 3"
    },
    "language_info": {
      "name": "python"
    }
  },
  "cells": [
    {
      "cell_type": "markdown",
      "metadata": {
        "id": "view-in-github",
        "colab_type": "text"
      },
      "source": [
        "<a href=\"https://colab.research.google.com/github/TorahBibleCodes/TorahBibleCodes/blob/master/mod_12GetLengthOfTextToSearch.ipynb\" target=\"_parent\"><img src=\"https://colab.research.google.com/assets/colab-badge.svg\" alt=\"Open In Colab\"/></a>"
      ]
    },
    {
      "cell_type": "code",
      "metadata": {
        "id": "j-g5eg34gJIq"
      },
      "source": [
        "## BEGIN FUNCTION () #12 - \n",
        "\n",
        "def fn_GetLengthOfTextToSearch(L): ## PARAMETERS:  L (LIST OF LETTERS)\n",
        "    \n",
        "    ## TEST PRINT OUTPUT\n",
        "    print(\"\\n\")  ## PRINT SPACE\n",
        "    print(\"WITHIN FUNCTION:  BEGIN FUNCTION #12\")\n",
        "          \n",
        "    ## DECLARE VARIABLES\n",
        "    LengthOfTextToSearch = len(L)\n",
        "    print(\"Length of Text to Search = \", LengthOfTextToSearch)\n",
        "\n",
        "    ## TEST PRINT OUTPUT\n",
        "    print(\"\\n\")  ## PRINT SPACE\n",
        "    print(\"WITHIN FUNCTION:  END FUNCTION #12\")\n",
        "    \n",
        "    ## RETURN VARIABLES - LENGTH OF TEXT TO SEARCH\n",
        "    return(LengthOfTextToSearch)\n",
        "    \n",
        "## END FUNCTION () #12 - "
      ],
      "execution_count": null,
      "outputs": []
    }
  ]
}