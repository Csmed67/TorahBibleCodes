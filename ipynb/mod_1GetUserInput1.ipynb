{
  "nbformat": 4,
  "nbformat_minor": 0,
  "metadata": {
    "colab": {
      "name": "mod_1GetUserInput1.ipynb",
      "provenance": [],
      "collapsed_sections": [],
      "authorship_tag": "ABX9TyMb4QIKyjIXhPDJYu5/Kkhx",
      "include_colab_link": true
    },
    "kernelspec": {
      "name": "python3",
      "display_name": "Python 3"
    },
    "language_info": {
      "name": "python"
    }
  },
  "cells": [
    {
      "cell_type": "markdown",
      "metadata": {
        "id": "view-in-github",
        "colab_type": "text"
      },
      "source": [
        "<a href=\"https://colab.research.google.com/github/TorahBibleCodes/TorahBibleCodes/blob/master/mod_1GetUserInput1.ipynb\" target=\"_parent\"><img src=\"https://colab.research.google.com/assets/colab-badge.svg\" alt=\"Open In Colab\"/></a>"
      ]
    },
    {
      "cell_type": "code",
      "metadata": {
        "id": "TFrk91l0a5Tf"
      },
      "source": [
        "## FUNCTION () #1 - GET USER INPUT; CHOOSE TEXT TO SEARCH\n",
        "## FUNCTION () #1 - GET USER INPUT; CHOOSE TEXT TO SEARCH\n",
        "## FUNCTION () #1 - GET USER INPUT; CHOOSE TEXT TO SEARCH\n",
        "def fn_GetUserInput1():\n",
        "\n",
        "    ## TEST PRINT OUTPUT\n",
        "    print(\"\\n\")  ## PRINT SPACE\n",
        "    print(\"WITHIN FUNCTION:  BEGIN FUNCTION #1 - GET USER INPUT; CHOOSE TEXT TO SEARCH\")\n",
        "    \n",
        "    ## GET USER INPUT\n",
        "    print(\"\\n\")  ## PRINT SPACE\n",
        "    print(\"Please select text to search:\")\n",
        "    print(\"1 - Genesis\")\n",
        "    print(\"2 - Exodus\")\n",
        "    print(\"3 - Leviticus\")\n",
        "    print(\"4 - Numbers\")\n",
        "    print(\"5 - Deuteronomy\")\n",
        "    print(\"6 - Joshua\")\n",
        "    print(\"7 - Judges\")\n",
        "    print(\"8 - I Samuel\")\n",
        "    print(\"9 - II Samuel\")\n",
        "    print(\"10 - I Kings\")\n",
        "    print(\"11 - II Kings\")\n",
        "    print(\"12 - Isaiah\")\n",
        "    print(\"13 - Jeremiah\")\n",
        "    print(\"14 - Ezekiel\")\n",
        "    print(\"15 - Hosea\")\n",
        "    print(\"16 - Joel\")\n",
        "    print(\"17 - Amos\")\n",
        "    print(\"18 - Obadiah\")\n",
        "    print(\"19 - Jonah\")\n",
        "    print(\"20 - Micah\")\n",
        "    print(\"21 - Nahum\")\n",
        "    print(\"22 - Habakkuk\")\n",
        "    print(\"23 - Zephaniah\")\n",
        "    print(\"24 - Haggai\")\n",
        "    print(\"25 - Zechariah\")\n",
        "    print(\"26 - Malachi\")\n",
        "    print(\"27 - Psalms\")\n",
        "    print(\"28 - Proverbs\")\n",
        "    print(\"29 - Job\")\n",
        "    print(\"30 - Song of Songs\")\n",
        "    print(\"31 - Ruth\")\n",
        "    print(\"32 - Lamentations\")\n",
        "    print(\"33 - Ecclesiastes\")\n",
        "    print(\"34 - Esther\")\n",
        "    print(\"35 - Daniel\")\n",
        "    print(\"36 - Ezra\")\n",
        "    print(\"37 - Nehemiah\")\n",
        "    print(\"38 - I Chronicles\")\n",
        "    print(\"39 - II Chronicles\") \n",
        "    print(\"40 - Pentateuch (Torah)\")\n",
        "    print(\"41 - Prophets (Nevi'im)\")\n",
        "    print(\"42 - Writings (K'tuvim)\")\n",
        "    print(\"43 - Hebrew Bible (Tanach)\")\n",
        "    \n",
        "    ## TEXT CHOSEN = USER INPUT (TEXT STRING)\n",
        "    TextString = input(\"Please select text to search:  \")\n",
        "    \n",
        "    ## CONVERT TEXT STRING TO INTEGER\n",
        "    NumberOfTextChosen = int(TextString)\n",
        "    \n",
        "    ## TEST PRINT OUTPUT\n",
        "    print(\"\\n\")  ## PRINT SPACE\n",
        "    print(\"You have chosen:  \", NumberOfTextChosen, type(NumberOfTextChosen))\n",
        "\n",
        "    ## TEST PRINT OUTPUT\n",
        "    print(\"\\n\")  ## PRINT SPACE\n",
        "    print(\"WITHIN FUNCTION:  END FUNCTION #1 - GET USER INPUT; CHOOSE TEXT TO SEARCH\")\n",
        "\n",
        "    ## RETURN VARIABLES TO PROGRAM\n",
        "    return(NumberOfTextChosen)\n",
        "\n",
        "## END FUNCTION () #1 - GET USER INPUT; CHOOSE TEXT TO SEARCH\n",
        "## END FUNCTION () #1 - GET USER INPUT; CHOOSE TEXT TO SEARCH\n",
        "## END FUNCTION () #1 - GET USER INPUT; CHOOSE TEXT TO SEARCH\n"
      ],
      "execution_count": null,
      "outputs": []
    }
  ]
}