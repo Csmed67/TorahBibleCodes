{
  "nbformat": 4,
  "nbformat_minor": 0,
  "metadata": {
    "colab": {
      "name": "mod_3ATextFilePreprocess.ipynb",
      "provenance": [],
      "collapsed_sections": [],
      "authorship_tag": "ABX9TyPPtmlWl3s/TKFa85/Q/Lpq",
      "include_colab_link": true
    },
    "kernelspec": {
      "name": "python3",
      "display_name": "Python 3"
    },
    "language_info": {
      "name": "python"
    }
  },
  "cells": [
    {
      "cell_type": "markdown",
      "metadata": {
        "id": "view-in-github",
        "colab_type": "text"
      },
      "source": [
        "<a href=\"https://colab.research.google.com/github/TorahBibleCodes/TorahBibleCodes/blob/master/mod_3ATextFilePreprocess.ipynb\" target=\"_parent\"><img src=\"https://colab.research.google.com/assets/colab-badge.svg\" alt=\"Open In Colab\"/></a>"
      ]
    },
    {
      "cell_type": "code",
      "metadata": {
        "id": "DPWalgdQbxSE"
      },
      "source": [
        "## IMPORT MODULES\n",
        "## IMPORT MODULES\n",
        "## IMPORT MODULES\n",
        "import mod_3BTextFileParse ## MODULE.FUNCTION() #3B - TEXT FILE PARSE\n",
        "\n",
        "## FUNCTION () #3A - TEXT FILE PREPROCESS\n",
        "## FUNCTION () #3A - TEXT FILE PREPROCESS\n",
        "## FUNCTION () #3A - TEXT FILE PREPROCESS\n",
        "def fn_TextFilePreprocess(JSON):\n",
        "    \n",
        "    ## TEST PRINT OUTPUT\n",
        "    print(\"\\n\")  ## PRINT SPACE\n",
        "    print(\"WITHIN FUNCTION:  BEGIN FUNCTION #3A TEXT FILE PREPROCESS\")\n",
        "\n",
        "    ## DECLARE VARIABLES\n",
        "    ListOfJSONStringsParsed = []\n",
        "    ListOfJSONStringsParsedWithSpaces = []\n",
        "    \n",
        "    ## IF JSON IS A STRING... ## IF TEXT CHOSEN IS ONE (1) TEXT\n",
        "    if isinstance(JSON, str):\n",
        "        \n",
        "        ## ...THEN CALL MODULE.FUNCTION() #3B - TEXT FILE PARSE\n",
        "        JSONParsed = mod_3BTextFileParse.fn_TextFileParse(JSON)\n",
        "        \n",
        "        ## TEST PRINT OUTPUT\n",
        "        ##print(\"\\n\")\n",
        "        ##print(\"JSONParsed = \", len(JSONParsed), type(JSONParsed))\n",
        "\n",
        "        ListOfJSONStringsParsed.append(JSONParsed[1]) ## JSONParsed[0] = TextWithSpaces ## JSONParsed[1] = TextNoSpaces\n",
        "        ListOfJSONStringsParsedWithSpaces.append(JSONParsed[0]) ## JSONParsed[0] = TextWithSpaces ## JSONParsed[1] = TextNoSpaces\n",
        "    \n",
        "    ## ELSE IF JSON IS A TUPLE... ## IF TEXT CHOSEN IS ALL FIVE (5) TEXTS\n",
        "    elif isinstance(JSON, tuple):\n",
        "        \n",
        "        ## ...THEN FOR EACH TUPLE IN JSON...\n",
        "        for each in JSON:\n",
        "            \n",
        "            ## ...THEN CALL MODULE.FUNCTION() #3B - TEXT FILE PARSE -  - RETURNS TUPLE??\n",
        "            JSONParsed = mod_3BTextFileParse.fn_TextFileParse(each)\n",
        "\n",
        "            ## TEST PRINT OUTPUT\n",
        "            ##print(\"\\n\")\n",
        "            ##print(\"JSONParsed = \", len(JSONParsed), type(JSONParsed))\n",
        "            \n",
        "            ListOfJSONStringsParsed.append(JSONParsed[1]) ## JSONParsed[0] = TextWithSpaces ## JSONParsed[1] = TextNoSpace\n",
        "            ListOfJSONStringsParsedWithSpaces.append(JSONParsed[0]) ## JSONParsed[0] = TextWithSpaces ## JSONParsed[1] = TextNoSpaces\n",
        "            \n",
        "    ## TEST PRINT OUTPUT\n",
        "    print(\"\\n\")  ## PRINT SPACE\n",
        "    print(\"WITHIN FUNCTION:  END FUNCTION #3A - TEXT FILE PREPROCESS\")\n",
        "\n",
        "    ## RETURN VARIABLES TO PROGRAM\n",
        "    return(ListOfJSONStringsParsed, ListOfJSONStringsParsedWithSpaces)\n",
        "    \n",
        "## END FUNCTION () #3A - END TEXT FILE PREPROCESS\n",
        "## END FUNCTION () #3A - END TEXT FILE PREPROCESS\n",
        "## END FUNCTION () #3A - END TEXT FILE PREPROCESS\n"
      ],
      "execution_count": null,
      "outputs": []
    }
  ]
}