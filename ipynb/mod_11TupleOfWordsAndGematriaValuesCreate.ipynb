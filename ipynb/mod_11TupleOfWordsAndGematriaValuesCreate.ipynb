{
  "nbformat": 4,
  "nbformat_minor": 0,
  "metadata": {
    "colab": {
      "name": "mod_11TupleOfWordsAndGematriaValuesCreate.ipynb",
      "provenance": [],
      "collapsed_sections": [],
      "authorship_tag": "ABX9TyPypQBHW1fm31gaMdb7d7d2",
      "include_colab_link": true
    },
    "kernelspec": {
      "name": "python3",
      "display_name": "Python 3"
    },
    "language_info": {
      "name": "python"
    }
  },
  "cells": [
    {
      "cell_type": "markdown",
      "metadata": {
        "id": "view-in-github",
        "colab_type": "text"
      },
      "source": [
        "<a href=\"https://colab.research.google.com/github/TorahBibleCodes/TorahBibleCodes/blob/master/mod_11TupleOfWordsAndGematriaValuesCreate.ipynb\" target=\"_parent\"><img src=\"https://colab.research.google.com/assets/colab-badge.svg\" alt=\"Open In Colab\"/></a>"
      ]
    },
    {
      "cell_type": "code",
      "metadata": {
        "id": "NSSY0-vYf5cB"
      },
      "source": [
        "## IMPORT MODULES\n",
        "## IMPORT MODULES\n",
        "## IMPORT MODULES\n",
        "\n",
        "## BEGIN FUNCTION () #11 - TUPLE OF WORDS AND GEMATRIA VALUES CREATE\n",
        "## BEGIN FUNCTION () #11 - TUPLE OF WORDS AND GEMATRIA VALUES CREATE\n",
        "## BEGIN FUNCTION () #11 - TUPLE OF WORDS AND GEMATRIA VALUES CREATE\n",
        "\n",
        "def fn_TupleOfWordsAndGematriaValuesCreate(ListOfWords, NW):\n",
        "    \n",
        "    ## TEST PRINT OUTPUT\n",
        "    print(\"\\n\")  ## PRINT SPACE\n",
        "    print(\"WITHIN FUNCTION:  BEGIN FUNCTION #11 - TUPLE OF WORDS AND GEMATRIA VALUES CREATE \")\n",
        "          \n",
        "    ## DECLARE VARIABLES\n",
        "    ## CALL PYTHON BUILT-IN FUNCTION(S) - CREATE TUPLE OF WORDS AND GEMATRIA VALUES\n",
        "\n",
        "    W = tuple(zip(ListOfWords, NW))\n",
        "    \n",
        "    ## TEST PRINT OUTPUT        \n",
        "    ## print(W)\n",
        "    \n",
        "    ## TEST PRINT OUTPUT\n",
        "    print(\"\\n\")  ## PRINT SPACE\n",
        "    print(\"WITHIN FUNCTION:  END FUNCTION #11 - TUPLE OF WORDS AND GEMATRIA VALUES CREATE\")\n",
        "    \n",
        "    ## RETURN VARIABLES - TUPLE OF WORDS AND GEMATRIA VALUES\n",
        "    return(W)\n",
        "    \n",
        "## END FUNCTION () #11 - TUPLE OF WORDS AND GEMATRIA VALUES CREATE\n",
        "## END FUNCTION () #11 - TUPLE OF WORDS AND GEMATRIA VALUES CREATE\n",
        "## END FUNCTION () #11 - TUPLE OF WORDS AND GEMATRIA VALUES CREATE\n",
        "\n",
        "\n"
      ],
      "execution_count": null,
      "outputs": []
    }
  ]
}