{
  "nbformat": 4,
  "nbformat_minor": 0,
  "metadata": {
    "colab": {
      "name": "mod_99WriteOutputToCSVFile_WordsAndGematriaValues.ipynb",
      "provenance": [],
      "collapsed_sections": [],
      "authorship_tag": "ABX9TyPLoBOEJL1K3mMtOJz5tpE4",
      "include_colab_link": true
    },
    "kernelspec": {
      "name": "python3",
      "display_name": "Python 3"
    },
    "language_info": {
      "name": "python"
    }
  },
  "cells": [
    {
      "cell_type": "markdown",
      "metadata": {
        "id": "view-in-github",
        "colab_type": "text"
      },
      "source": [
        "<a href=\"https://colab.research.google.com/github/TorahBibleCodes/TorahBibleCodes/blob/master/mod_99WriteOutputToCSVFile_WordsAndGematriaValues.ipynb\" target=\"_parent\"><img src=\"https://colab.research.google.com/assets/colab-badge.svg\" alt=\"Open In Colab\"/></a>"
      ]
    },
    {
      "cell_type": "code",
      "metadata": {
        "id": "0XqNhq0Ag57h"
      },
      "source": [
        "## IMPORT MODULES\n",
        "## IMPORT MODULES\n",
        "## IMPORT MODULES\n",
        "\n",
        "import csv\n",
        "\n",
        "\n",
        "## DECLARE VARIABLES\n",
        "## DECLARE VARIABLES\n",
        "## DECLARE VARIABLES\n",
        "\n",
        "headers = [\"Word\", \"Gematria Number Value\"]\n",
        "\n",
        "rows = []\n",
        "\n",
        "\n",
        "## DEFINE FUNCTIONS\n",
        "## DEFINE FUNCTIONS\n",
        "## DEFINE FUNCTIONS\n",
        "\n",
        "def fn_WriteOutputToCSVFile_WordsAndGematriaValues(W):\n",
        "    \n",
        "    ## OPEN (IF EXISTS) / CREATE (IF NOT EXISTS) CSV FILE; WRITE OUTPUT TO CSV FILE\n",
        "    with open('WordsOfSelectedTexts_GematriaValues.csv','w', encoding=\"utf-8\", newline='') as f:\n",
        "\n",
        "        f_csv = csv.writer(f, delimiter=';')\n",
        "        ## f_csv.writerow(headers) ## HEADERS OPTIONAL - REMOVE COMMENTS BEFORE f_csv.writerow(headers) IF YOU WANT CSV FILE TO CONTAIN HEADERS\n",
        "        f_csv.writerows(W)\n",
        "\n",
        "    ## return() - RETURNS NOTHING\n"
      ],
      "execution_count": null,
      "outputs": []
    }
  ]
}